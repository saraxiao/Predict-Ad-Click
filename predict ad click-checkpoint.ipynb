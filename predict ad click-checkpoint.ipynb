{
 "cells": [
  {
   "cell_type": "markdown",
   "metadata": {},
   "source": [
    "This is a Hackathon project, AmExpert 2018 - Machine Learning (ML), hosted by Analytics Vidhya sponsored by American Express. The goal is to predict the probability of a click on an ad. The prediction is based on a specific Web session that belongs to a specific user along with his characteristics and parameters categorizing the product displayed."
   ]
  },
  {
   "cell_type": "markdown",
   "metadata": {},
   "source": [
    "### Problem Statement\n",
    "\n",
    "Recent years have witnessed a surge in the number of internet savvy users. Companies in the financial services domain leverage this huge internet traffic arriving at their interface by strategically placing ads/promotions for cross selling of various financial products on a plethora of web pages. The digital analytics unit of Best Cards Company uses cutting edge data science and machine learning for successful promotion of its valuable card products. They believe that a predictive model that forecasts whether a session involves a click on the ad/promotion would help them extract the maximum out of the huge clickstream data that they have collected. The current job as a consultant is to build an efficient model to predict whether a user will click on an ad or not, given the following features:\n",
    "\n",
    "* **Clickstream data/train data for duration: (2nd July 2017 – 7th July 2017)**<br>\n",
    "* **Test data for duration: (8th July 2017 – 9th July 2017)**<br>\n",
    "* **User features (demographics, user behaviour/activity, buying power etc.)**<br>\n",
    "* **Historical transactional data of the previous month with timestamp info (28th May 2017– 1st July 2017) (User views/interest registered)**<br>\n",
    "* **Ad features (product category, webpage, campaign for ad etc.)**<br>\n",
    "* **Date time features (exact timestamp of the user session)**<br>"
   ]
  },
  {
   "cell_type": "markdown",
   "metadata": {},
   "source": [
    "Variable | Definition\n",
    "--- | ---\n",
    "session_id\t| Unique ID for a session\n",
    "DateTime\t| Timestamp\n",
    "user_id\t| Unique ID for user\n",
    "product\t| Product ID\n",
    "campaign_id\t| Unique ID for ad campaign\n",
    "webpage_id\t| Webpage ID at which the ad is displayed\n",
    "product_category_1\t| Product category 1 (Ordered)\n",
    "product_category_2\t| Product category 2\n",
    "user_group_id\t| Customer segmentation ID\n",
    "gender\t| Gender of the user\n",
    "age_level\t| Age level of the user\n",
    "user_depth\t| Interaction level of user with the web platform (1 - low, 2 - medium, 3 - High)\n",
    "city_development_index\t| Scaled development index of the residence city\n",
    "var_1\t| Anonymised session feature\n",
    "is_click\t| 0 - no click, 1 - click\n"
   ]
  },
  {
   "cell_type": "code",
   "execution_count": 1,
   "metadata": {},
   "outputs": [
    {
     "name": "stderr",
     "output_type": "stream",
     "text": [
      "Using TensorFlow backend.\n"
     ]
    }
   ],
   "source": [
    "import pandas as pd\n",
    "import numpy as np\n",
    "import seaborn as sns\n",
    "import matplotlib.pyplot as plt\n",
    "import datetime\n",
    "\n",
    "%matplotlib inline\n",
    "sns.set(style='white', context='notebook', palette='deep')\n",
    "\n",
    "import warnings\n",
    "warnings.filterwarnings(\"ignore\")\n",
    "\n",
    "from sklearn.preprocessing import LabelEncoder\n",
    "from sklearn.preprocessing import StandardScaler\n",
    "from sklearn.preprocessing import OneHotEncoder\n",
    "from xgboost.sklearn import XGBClassifier\n",
    "import lightgbm as lgb\n",
    "\n",
    "from sklearn.model_selection import train_test_split\n",
    "from sklearn.model_selection import GridSearchCV\n",
    "\n",
    "from keras.models import Sequential\n",
    "from keras.layers import Dense\n",
    "from keras.utils import to_categorical\n",
    "from keras.callbacks import EarlyStopping\n",
    "\n",
    "from catboost import CatBoostClassifier\n"
   ]
  },
  {
   "cell_type": "code",
   "execution_count": 2,
   "metadata": {},
   "outputs": [],
   "source": [
    "train = pd.read_csv('train.csv')\n",
    "test = pd.read_csv('test.csv')\n",
    "combine = pd.concat([train.drop('is_click',1),test])\n",
    "log = pd.read_csv('historical_user_logs.csv')\n",
    "click = train['is_click']"
   ]
  },
  {
   "cell_type": "code",
   "execution_count": 247,
   "metadata": {},
   "outputs": [
    {
     "data": {
      "text/html": [
       "<div>\n",
       "<style scoped>\n",
       "    .dataframe tbody tr th:only-of-type {\n",
       "        vertical-align: middle;\n",
       "    }\n",
       "\n",
       "    .dataframe tbody tr th {\n",
       "        vertical-align: top;\n",
       "    }\n",
       "\n",
       "    .dataframe thead th {\n",
       "        text-align: right;\n",
       "    }\n",
       "</style>\n",
       "<table border=\"1\" class=\"dataframe\">\n",
       "  <thead>\n",
       "    <tr style=\"text-align: right;\">\n",
       "      <th></th>\n",
       "      <th>session_id</th>\n",
       "      <th>DateTime</th>\n",
       "      <th>user_id</th>\n",
       "      <th>product</th>\n",
       "      <th>campaign_id</th>\n",
       "      <th>webpage_id</th>\n",
       "      <th>product_category_1</th>\n",
       "      <th>product_category_2</th>\n",
       "      <th>user_group_id</th>\n",
       "      <th>gender</th>\n",
       "      <th>age_level</th>\n",
       "      <th>user_depth</th>\n",
       "      <th>city_development_index</th>\n",
       "      <th>var_1</th>\n",
       "      <th>is_click</th>\n",
       "    </tr>\n",
       "  </thead>\n",
       "  <tbody>\n",
       "    <tr>\n",
       "      <th>0</th>\n",
       "      <td>140690</td>\n",
       "      <td>2017-07-02 00:00</td>\n",
       "      <td>858557</td>\n",
       "      <td>C</td>\n",
       "      <td>359520</td>\n",
       "      <td>13787</td>\n",
       "      <td>4</td>\n",
       "      <td>NaN</td>\n",
       "      <td>10.0</td>\n",
       "      <td>Female</td>\n",
       "      <td>4.0</td>\n",
       "      <td>3.0</td>\n",
       "      <td>3.0</td>\n",
       "      <td>0</td>\n",
       "      <td>0</td>\n",
       "    </tr>\n",
       "    <tr>\n",
       "      <th>1</th>\n",
       "      <td>333291</td>\n",
       "      <td>2017-07-02 00:00</td>\n",
       "      <td>243253</td>\n",
       "      <td>C</td>\n",
       "      <td>105960</td>\n",
       "      <td>11085</td>\n",
       "      <td>5</td>\n",
       "      <td>NaN</td>\n",
       "      <td>8.0</td>\n",
       "      <td>Female</td>\n",
       "      <td>2.0</td>\n",
       "      <td>2.0</td>\n",
       "      <td>NaN</td>\n",
       "      <td>0</td>\n",
       "      <td>0</td>\n",
       "    </tr>\n",
       "    <tr>\n",
       "      <th>2</th>\n",
       "      <td>129781</td>\n",
       "      <td>2017-07-02 00:00</td>\n",
       "      <td>243253</td>\n",
       "      <td>C</td>\n",
       "      <td>359520</td>\n",
       "      <td>13787</td>\n",
       "      <td>4</td>\n",
       "      <td>NaN</td>\n",
       "      <td>8.0</td>\n",
       "      <td>Female</td>\n",
       "      <td>2.0</td>\n",
       "      <td>2.0</td>\n",
       "      <td>NaN</td>\n",
       "      <td>0</td>\n",
       "      <td>0</td>\n",
       "    </tr>\n",
       "    <tr>\n",
       "      <th>3</th>\n",
       "      <td>464848</td>\n",
       "      <td>2017-07-02 00:00</td>\n",
       "      <td>1097446</td>\n",
       "      <td>I</td>\n",
       "      <td>359520</td>\n",
       "      <td>13787</td>\n",
       "      <td>3</td>\n",
       "      <td>NaN</td>\n",
       "      <td>3.0</td>\n",
       "      <td>Male</td>\n",
       "      <td>3.0</td>\n",
       "      <td>3.0</td>\n",
       "      <td>2.0</td>\n",
       "      <td>1</td>\n",
       "      <td>0</td>\n",
       "    </tr>\n",
       "    <tr>\n",
       "      <th>4</th>\n",
       "      <td>90569</td>\n",
       "      <td>2017-07-02 00:01</td>\n",
       "      <td>663656</td>\n",
       "      <td>C</td>\n",
       "      <td>405490</td>\n",
       "      <td>60305</td>\n",
       "      <td>3</td>\n",
       "      <td>NaN</td>\n",
       "      <td>2.0</td>\n",
       "      <td>Male</td>\n",
       "      <td>2.0</td>\n",
       "      <td>3.0</td>\n",
       "      <td>2.0</td>\n",
       "      <td>1</td>\n",
       "      <td>0</td>\n",
       "    </tr>\n",
       "  </tbody>\n",
       "</table>\n",
       "</div>"
      ],
      "text/plain": [
       "   session_id          DateTime  user_id product  campaign_id  webpage_id  \\\n",
       "0      140690  2017-07-02 00:00   858557       C       359520       13787   \n",
       "1      333291  2017-07-02 00:00   243253       C       105960       11085   \n",
       "2      129781  2017-07-02 00:00   243253       C       359520       13787   \n",
       "3      464848  2017-07-02 00:00  1097446       I       359520       13787   \n",
       "4       90569  2017-07-02 00:01   663656       C       405490       60305   \n",
       "\n",
       "   product_category_1  product_category_2  user_group_id  gender  age_level  \\\n",
       "0                   4                 NaN           10.0  Female        4.0   \n",
       "1                   5                 NaN            8.0  Female        2.0   \n",
       "2                   4                 NaN            8.0  Female        2.0   \n",
       "3                   3                 NaN            3.0    Male        3.0   \n",
       "4                   3                 NaN            2.0    Male        2.0   \n",
       "\n",
       "   user_depth  city_development_index  var_1  is_click  \n",
       "0         3.0                     3.0      0         0  \n",
       "1         2.0                     NaN      0         0  \n",
       "2         2.0                     NaN      0         0  \n",
       "3         3.0                     2.0      1         0  \n",
       "4         3.0                     2.0      1         0  "
      ]
     },
     "execution_count": 247,
     "metadata": {},
     "output_type": "execute_result"
    }
   ],
   "source": [
    "train.head()"
   ]
  },
  {
   "cell_type": "code",
   "execution_count": 248,
   "metadata": {},
   "outputs": [
    {
     "data": {
      "text/html": [
       "<div>\n",
       "<style scoped>\n",
       "    .dataframe tbody tr th:only-of-type {\n",
       "        vertical-align: middle;\n",
       "    }\n",
       "\n",
       "    .dataframe tbody tr th {\n",
       "        vertical-align: top;\n",
       "    }\n",
       "\n",
       "    .dataframe thead th {\n",
       "        text-align: right;\n",
       "    }\n",
       "</style>\n",
       "<table border=\"1\" class=\"dataframe\">\n",
       "  <thead>\n",
       "    <tr style=\"text-align: right;\">\n",
       "      <th></th>\n",
       "      <th>session_id</th>\n",
       "      <th>user_id</th>\n",
       "      <th>campaign_id</th>\n",
       "      <th>webpage_id</th>\n",
       "      <th>product_category_1</th>\n",
       "      <th>product_category_2</th>\n",
       "      <th>user_group_id</th>\n",
       "      <th>age_level</th>\n",
       "      <th>user_depth</th>\n",
       "      <th>city_development_index</th>\n",
       "      <th>var_1</th>\n",
       "      <th>is_click</th>\n",
       "    </tr>\n",
       "  </thead>\n",
       "  <tbody>\n",
       "    <tr>\n",
       "      <th>count</th>\n",
       "      <td>463291.000000</td>\n",
       "      <td>4.632910e+05</td>\n",
       "      <td>463291.000000</td>\n",
       "      <td>463291.000000</td>\n",
       "      <td>463291.000000</td>\n",
       "      <td>97437.000000</td>\n",
       "      <td>445048.000000</td>\n",
       "      <td>445048.000000</td>\n",
       "      <td>445048.000000</td>\n",
       "      <td>338162.000000</td>\n",
       "      <td>463291.000000</td>\n",
       "      <td>463291.000000</td>\n",
       "    </tr>\n",
       "    <tr>\n",
       "      <th>mean</th>\n",
       "      <td>285544.090725</td>\n",
       "      <td>5.460497e+05</td>\n",
       "      <td>308474.540069</td>\n",
       "      <td>29685.878994</td>\n",
       "      <td>3.072427</td>\n",
       "      <td>162753.345105</td>\n",
       "      <td>3.477396</td>\n",
       "      <td>2.782266</td>\n",
       "      <td>2.878415</td>\n",
       "      <td>2.557121</td>\n",
       "      <td>0.422169</td>\n",
       "      <td>0.067627</td>\n",
       "    </tr>\n",
       "    <tr>\n",
       "      <th>std</th>\n",
       "      <td>168577.345887</td>\n",
       "      <td>3.294625e+05</td>\n",
       "      <td>126517.101294</td>\n",
       "      <td>21542.053106</td>\n",
       "      <td>1.304233</td>\n",
       "      <td>78743.742720</td>\n",
       "      <td>2.412889</td>\n",
       "      <td>1.069701</td>\n",
       "      <td>0.400130</td>\n",
       "      <td>0.921345</td>\n",
       "      <td>0.493906</td>\n",
       "      <td>0.251105</td>\n",
       "    </tr>\n",
       "    <tr>\n",
       "      <th>min</th>\n",
       "      <td>2.000000</td>\n",
       "      <td>4.000000e+00</td>\n",
       "      <td>82320.000000</td>\n",
       "      <td>1734.000000</td>\n",
       "      <td>1.000000</td>\n",
       "      <td>18595.000000</td>\n",
       "      <td>0.000000</td>\n",
       "      <td>0.000000</td>\n",
       "      <td>1.000000</td>\n",
       "      <td>1.000000</td>\n",
       "      <td>0.000000</td>\n",
       "      <td>0.000000</td>\n",
       "    </tr>\n",
       "    <tr>\n",
       "      <th>25%</th>\n",
       "      <td>137856.500000</td>\n",
       "      <td>2.578550e+05</td>\n",
       "      <td>118601.000000</td>\n",
       "      <td>13787.000000</td>\n",
       "      <td>2.000000</td>\n",
       "      <td>82527.000000</td>\n",
       "      <td>2.000000</td>\n",
       "      <td>2.000000</td>\n",
       "      <td>3.000000</td>\n",
       "      <td>2.000000</td>\n",
       "      <td>0.000000</td>\n",
       "      <td>0.000000</td>\n",
       "    </tr>\n",
       "    <tr>\n",
       "      <th>50%</th>\n",
       "      <td>285429.000000</td>\n",
       "      <td>5.318010e+05</td>\n",
       "      <td>359520.000000</td>\n",
       "      <td>13787.000000</td>\n",
       "      <td>3.000000</td>\n",
       "      <td>146115.000000</td>\n",
       "      <td>3.000000</td>\n",
       "      <td>3.000000</td>\n",
       "      <td>3.000000</td>\n",
       "      <td>2.000000</td>\n",
       "      <td>0.000000</td>\n",
       "      <td>0.000000</td>\n",
       "    </tr>\n",
       "    <tr>\n",
       "      <th>75%</th>\n",
       "      <td>435535.500000</td>\n",
       "      <td>8.278490e+05</td>\n",
       "      <td>405490.000000</td>\n",
       "      <td>53587.000000</td>\n",
       "      <td>4.000000</td>\n",
       "      <td>254132.000000</td>\n",
       "      <td>4.000000</td>\n",
       "      <td>3.000000</td>\n",
       "      <td>3.000000</td>\n",
       "      <td>3.000000</td>\n",
       "      <td>1.000000</td>\n",
       "      <td>0.000000</td>\n",
       "    </tr>\n",
       "    <tr>\n",
       "      <th>max</th>\n",
       "      <td>595812.000000</td>\n",
       "      <td>1.141729e+06</td>\n",
       "      <td>414149.000000</td>\n",
       "      <td>60305.000000</td>\n",
       "      <td>5.000000</td>\n",
       "      <td>450184.000000</td>\n",
       "      <td>12.000000</td>\n",
       "      <td>6.000000</td>\n",
       "      <td>3.000000</td>\n",
       "      <td>4.000000</td>\n",
       "      <td>1.000000</td>\n",
       "      <td>1.000000</td>\n",
       "    </tr>\n",
       "  </tbody>\n",
       "</table>\n",
       "</div>"
      ],
      "text/plain": [
       "          session_id       user_id    campaign_id     webpage_id  \\\n",
       "count  463291.000000  4.632910e+05  463291.000000  463291.000000   \n",
       "mean   285544.090725  5.460497e+05  308474.540069   29685.878994   \n",
       "std    168577.345887  3.294625e+05  126517.101294   21542.053106   \n",
       "min         2.000000  4.000000e+00   82320.000000    1734.000000   \n",
       "25%    137856.500000  2.578550e+05  118601.000000   13787.000000   \n",
       "50%    285429.000000  5.318010e+05  359520.000000   13787.000000   \n",
       "75%    435535.500000  8.278490e+05  405490.000000   53587.000000   \n",
       "max    595812.000000  1.141729e+06  414149.000000   60305.000000   \n",
       "\n",
       "       product_category_1  product_category_2  user_group_id      age_level  \\\n",
       "count       463291.000000        97437.000000  445048.000000  445048.000000   \n",
       "mean             3.072427       162753.345105       3.477396       2.782266   \n",
       "std              1.304233        78743.742720       2.412889       1.069701   \n",
       "min              1.000000        18595.000000       0.000000       0.000000   \n",
       "25%              2.000000        82527.000000       2.000000       2.000000   \n",
       "50%              3.000000       146115.000000       3.000000       3.000000   \n",
       "75%              4.000000       254132.000000       4.000000       3.000000   \n",
       "max              5.000000       450184.000000      12.000000       6.000000   \n",
       "\n",
       "          user_depth  city_development_index          var_1       is_click  \n",
       "count  445048.000000           338162.000000  463291.000000  463291.000000  \n",
       "mean        2.878415                2.557121       0.422169       0.067627  \n",
       "std         0.400130                0.921345       0.493906       0.251105  \n",
       "min         1.000000                1.000000       0.000000       0.000000  \n",
       "25%         3.000000                2.000000       0.000000       0.000000  \n",
       "50%         3.000000                2.000000       0.000000       0.000000  \n",
       "75%         3.000000                3.000000       1.000000       0.000000  \n",
       "max         3.000000                4.000000       1.000000       1.000000  "
      ]
     },
     "execution_count": 248,
     "metadata": {},
     "output_type": "execute_result"
    }
   ],
   "source": [
    "train.describe()"
   ]
  },
  {
   "cell_type": "code",
   "execution_count": 249,
   "metadata": {},
   "outputs": [
    {
     "data": {
      "text/html": [
       "<div>\n",
       "<style scoped>\n",
       "    .dataframe tbody tr th:only-of-type {\n",
       "        vertical-align: middle;\n",
       "    }\n",
       "\n",
       "    .dataframe tbody tr th {\n",
       "        vertical-align: top;\n",
       "    }\n",
       "\n",
       "    .dataframe thead th {\n",
       "        text-align: right;\n",
       "    }\n",
       "</style>\n",
       "<table border=\"1\" class=\"dataframe\">\n",
       "  <thead>\n",
       "    <tr style=\"text-align: right;\">\n",
       "      <th></th>\n",
       "      <th>missing_total</th>\n",
       "      <th>missing_percent</th>\n",
       "      <th>unique_values</th>\n",
       "    </tr>\n",
       "  </thead>\n",
       "  <tbody>\n",
       "    <tr>\n",
       "      <th>session_id</th>\n",
       "      <td>0</td>\n",
       "      <td>0.000000</td>\n",
       "      <td>463291</td>\n",
       "    </tr>\n",
       "    <tr>\n",
       "      <th>DateTime</th>\n",
       "      <td>0</td>\n",
       "      <td>0.000000</td>\n",
       "      <td>8610</td>\n",
       "    </tr>\n",
       "    <tr>\n",
       "      <th>user_id</th>\n",
       "      <td>0</td>\n",
       "      <td>0.000000</td>\n",
       "      <td>150347</td>\n",
       "    </tr>\n",
       "    <tr>\n",
       "      <th>product</th>\n",
       "      <td>0</td>\n",
       "      <td>0.000000</td>\n",
       "      <td>10</td>\n",
       "    </tr>\n",
       "    <tr>\n",
       "      <th>campaign_id</th>\n",
       "      <td>0</td>\n",
       "      <td>0.000000</td>\n",
       "      <td>10</td>\n",
       "    </tr>\n",
       "    <tr>\n",
       "      <th>webpage_id</th>\n",
       "      <td>0</td>\n",
       "      <td>0.000000</td>\n",
       "      <td>9</td>\n",
       "    </tr>\n",
       "    <tr>\n",
       "      <th>product_category_1</th>\n",
       "      <td>0</td>\n",
       "      <td>0.000000</td>\n",
       "      <td>5</td>\n",
       "    </tr>\n",
       "    <tr>\n",
       "      <th>product_category_2</th>\n",
       "      <td>365854</td>\n",
       "      <td>0.789685</td>\n",
       "      <td>29</td>\n",
       "    </tr>\n",
       "    <tr>\n",
       "      <th>user_group_id</th>\n",
       "      <td>18243</td>\n",
       "      <td>0.039377</td>\n",
       "      <td>13</td>\n",
       "    </tr>\n",
       "    <tr>\n",
       "      <th>gender</th>\n",
       "      <td>18243</td>\n",
       "      <td>0.039377</td>\n",
       "      <td>2</td>\n",
       "    </tr>\n",
       "    <tr>\n",
       "      <th>age_level</th>\n",
       "      <td>18243</td>\n",
       "      <td>0.039377</td>\n",
       "      <td>7</td>\n",
       "    </tr>\n",
       "    <tr>\n",
       "      <th>user_depth</th>\n",
       "      <td>18243</td>\n",
       "      <td>0.039377</td>\n",
       "      <td>3</td>\n",
       "    </tr>\n",
       "    <tr>\n",
       "      <th>city_development_index</th>\n",
       "      <td>125129</td>\n",
       "      <td>0.270087</td>\n",
       "      <td>4</td>\n",
       "    </tr>\n",
       "    <tr>\n",
       "      <th>var_1</th>\n",
       "      <td>0</td>\n",
       "      <td>0.000000</td>\n",
       "      <td>2</td>\n",
       "    </tr>\n",
       "    <tr>\n",
       "      <th>is_click</th>\n",
       "      <td>0</td>\n",
       "      <td>0.000000</td>\n",
       "      <td>2</td>\n",
       "    </tr>\n",
       "  </tbody>\n",
       "</table>\n",
       "</div>"
      ],
      "text/plain": [
       "                        missing_total  missing_percent  unique_values\n",
       "session_id                          0         0.000000         463291\n",
       "DateTime                            0         0.000000           8610\n",
       "user_id                             0         0.000000         150347\n",
       "product                             0         0.000000             10\n",
       "campaign_id                         0         0.000000             10\n",
       "webpage_id                          0         0.000000              9\n",
       "product_category_1                  0         0.000000              5\n",
       "product_category_2             365854         0.789685             29\n",
       "user_group_id                   18243         0.039377             13\n",
       "gender                          18243         0.039377              2\n",
       "age_level                       18243         0.039377              7\n",
       "user_depth                      18243         0.039377              3\n",
       "city_development_index         125129         0.270087              4\n",
       "var_1                               0         0.000000              2\n",
       "is_click                            0         0.000000              2"
      ]
     },
     "execution_count": 249,
     "metadata": {},
     "output_type": "execute_result"
    }
   ],
   "source": [
    "na_percent = train.isnull().sum(axis=0)/train.shape[0]\n",
    "na_total = train.isnull().sum()\n",
    "unique_values = train.apply(lambda x: x.nunique())\n",
    "\n",
    "pd.concat([na_total,na_percent,unique_values], axis=1).rename(columns={0:'missing_total',1:'missing_percent',2:'unique_values'})"
   ]
  },
  {
   "cell_type": "code",
   "execution_count": 250,
   "metadata": {},
   "outputs": [
    {
     "name": "stdout",
     "output_type": "stream",
     "text": [
      "{('C', 414149), ('B', 98970), ('H', 359520), ('D', 118601), ('D', 360936), ('D', 105960), ('F', 404347), ('A', 396664), ('F', 405490), ('H', 414149), ('D', 414149), ('A', 82320), ('I', 118601), ('D', 405490), ('H', 405490), ('F', 359520), ('E', 98970), ('G', 98970), ('C', 105960), ('C', 360936), ('D', 404347), ('G', 404347), ('D', 359520), ('D', 98970), ('J', 82320), ('I', 396664), ('J', 396664), ('B', 360936), ('B', 105960), ('C', 405490), ('A', 405490), ('C', 404347), ('H', 82320), ('C', 359520), ('I', 414149), ('B', 405490), ('D', 396664), ('H', 396664), ('B', 404347), ('I', 404347), ('E', 82320), ('B', 359520), ('C', 82320), ('G', 105960), ('F', 118601), ('F', 98970), ('G', 118601), ('A', 414149), ('C', 396664), ('I', 360936), ('I', 105960), ('B', 82320), ('G', 414149), ('E', 414149), ('E', 404347), ('I', 82320), ('B', 396664), ('A', 105960), ('C', 98970), ('A', 118601), ('H', 98970), ('A', 404347), ('H', 404347), ('F', 396664), ('B', 118601), ('I', 359520), ('F', 414149), ('H', 105960), ('H', 360936), ('F', 82320), ('H', 118601), ('G', 82320), ('D', 82320), ('B', 414149), ('J', 404347), ('E', 396664), ('G', 396664), ('I', 98970)}\n"
     ]
    }
   ],
   "source": [
    "product_campaign=list(zip(train['product'],train['campaign_id']))\n",
    "print(set(product_campaign))"
   ]
  },
  {
   "cell_type": "markdown",
   "metadata": {},
   "source": [
    "Observation1: one campaign can feature multiple product. one product can appear in different campaigns."
   ]
  },
  {
   "cell_type": "code",
   "execution_count": 251,
   "metadata": {},
   "outputs": [
    {
     "name": "stdout",
     "output_type": "stream",
     "text": [
      "<class 'pandas.core.frame.DataFrame'>\n",
      "RangeIndex: 463291 entries, 0 to 463290\n",
      "Data columns (total 15 columns):\n",
      "session_id                463291 non-null int64\n",
      "DateTime                  463291 non-null object\n",
      "user_id                   463291 non-null int64\n",
      "product                   463291 non-null object\n",
      "campaign_id               463291 non-null int64\n",
      "webpage_id                463291 non-null int64\n",
      "product_category_1        463291 non-null int64\n",
      "product_category_2        97437 non-null float64\n",
      "user_group_id             445048 non-null float64\n",
      "gender                    445048 non-null object\n",
      "age_level                 445048 non-null float64\n",
      "user_depth                445048 non-null float64\n",
      "city_development_index    338162 non-null float64\n",
      "var_1                     463291 non-null int64\n",
      "is_click                  463291 non-null int64\n",
      "dtypes: float64(5), int64(7), object(3)\n",
      "memory usage: 53.0+ MB\n"
     ]
    }
   ],
   "source": [
    "train.info()"
   ]
  },
  {
   "cell_type": "markdown",
   "metadata": {},
   "source": [
    "categorical variables represented by numerical values:\n",
    "\n",
    "user_id, product_category_1,campaign_id,webpage_id,user_group_id,var_1"
   ]
  },
  {
   "cell_type": "code",
   "execution_count": 252,
   "metadata": {},
   "outputs": [
    {
     "data": {
      "text/plain": [
       "0         2017-07-02 00:00\n",
       "1         2017-07-02 00:00\n",
       "2         2017-07-02 00:00\n",
       "3         2017-07-02 00:00\n",
       "4         2017-07-02 00:01\n",
       "5         2017-07-02 00:01\n",
       "6         2017-07-02 00:01\n",
       "7         2017-07-02 00:01\n",
       "8         2017-07-02 00:02\n",
       "9         2017-07-02 00:02\n",
       "10        2017-07-02 00:02\n",
       "11        2017-07-02 00:02\n",
       "12        2017-07-02 00:02\n",
       "13        2017-07-02 00:02\n",
       "14        2017-07-02 00:03\n",
       "15        2017-07-02 00:03\n",
       "16        2017-07-02 00:03\n",
       "17        2017-07-02 00:03\n",
       "18        2017-07-02 00:03\n",
       "19        2017-07-02 00:03\n",
       "20        2017-07-02 00:03\n",
       "21        2017-07-02 00:03\n",
       "22        2017-07-02 00:03\n",
       "23        2017-07-02 00:03\n",
       "24        2017-07-02 00:04\n",
       "25        2017-07-02 00:04\n",
       "26        2017-07-02 00:04\n",
       "27        2017-07-02 00:04\n",
       "28        2017-07-02 00:04\n",
       "29        2017-07-02 00:04\n",
       "                ...       \n",
       "463261    2017-07-07 23:56\n",
       "463262    2017-07-07 23:56\n",
       "463263    2017-07-07 23:57\n",
       "463264    2017-07-07 23:57\n",
       "463265    2017-07-07 23:57\n",
       "463266    2017-07-07 23:57\n",
       "463267    2017-07-07 23:57\n",
       "463268    2017-07-07 23:57\n",
       "463269    2017-07-07 23:57\n",
       "463270    2017-07-07 23:58\n",
       "463271    2017-07-07 23:58\n",
       "463272    2017-07-07 23:58\n",
       "463273    2017-07-07 23:58\n",
       "463274    2017-07-07 23:58\n",
       "463275    2017-07-07 23:58\n",
       "463276    2017-07-07 23:59\n",
       "463277    2017-07-07 23:59\n",
       "463278    2017-07-07 23:59\n",
       "463279    2017-07-07 23:59\n",
       "463280    2017-07-07 23:59\n",
       "463281    2017-07-07 23:59\n",
       "463282    2017-07-07 23:59\n",
       "463283    2017-07-07 23:59\n",
       "463284    2017-07-07 23:59\n",
       "463285    2017-07-07 23:59\n",
       "463286    2017-07-07 23:59\n",
       "463287    2017-07-07 23:59\n",
       "463288    2017-07-07 23:59\n",
       "463289    2017-07-07 23:59\n",
       "463290    2017-07-07 23:59\n",
       "Name: DateTime, Length: 463291, dtype: object"
      ]
     },
     "execution_count": 252,
     "metadata": {},
     "output_type": "execute_result"
    }
   ],
   "source": [
    "train['DateTime']"
   ]
  },
  {
   "cell_type": "markdown",
   "metadata": {},
   "source": [
    "Observation2: The rows are chronologically ordered."
   ]
  },
  {
   "cell_type": "code",
   "execution_count": 253,
   "metadata": {},
   "outputs": [
    {
     "name": "stdout",
     "output_type": "stream",
     "text": [
      "Clicked: 31331 (6.8 percent), Not Clicked: 431960 (93.2 percent), Total: 463291\n"
     ]
    }
   ],
   "source": [
    "click = train[train['is_click']==1]\n",
    "noclick = train[train['is_click']==0]\n",
    "click_col = 'blue'\n",
    "noclick_col = 'red'\n",
    "\n",
    "print(\"Clicked: %i (%.1f percent), Not Clicked: %i (%.1f percent), Total: %i\"\\\n",
    "      %(len(click), 1.*len(click)/len(train)*100.0,\\\n",
    "        len(noclick), 1.*len(noclick)/len(train)*100.0, len(train)))"
   ]
  },
  {
   "cell_type": "markdown",
   "metadata": {},
   "source": [
    "observation 3: the predicted class is umbalanced."
   ]
  },
  {
   "cell_type": "markdown",
   "metadata": {},
   "source": [
    "## Feature Engineering\n",
    "\n",
    "Group the historical log data and extract features: user-product view count, user-product interest count, user view count, user interest count, user-time active days, user-time unique active days, product view count, product interest count."
   ]
  },
  {
   "cell_type": "code",
   "execution_count": 4,
   "metadata": {},
   "outputs": [],
   "source": [
    "user_product_view = log[log['action']=='view'].groupby(['user_id','product','action']).count().rename(columns={'DateTime':'up_view'}).reset_index()\n",
    "user_product_view.drop(['action'],axis=1,inplace=True)\n",
    "user_product_interest = log[log['action']=='interest'].groupby(['user_id','product','action']).count().rename(columns={'DateTime':'up_interest'}).reset_index()\n",
    "user_product_interest.drop(['action'],axis=1,inplace=True)"
   ]
  },
  {
   "cell_type": "code",
   "execution_count": 5,
   "metadata": {},
   "outputs": [],
   "source": [
    "user_view = log[log['action']=='view'].groupby(['user_id','action']).count().rename(columns={'DateTime':'u_view'}).reset_index()\n",
    "user_view.drop(['action','product'],axis=1,inplace=True)\n",
    "user_interest = log[log['action']=='interest'].groupby(['user_id','action']).count().rename(columns={'DateTime':'u_interest'}).reset_index()\n",
    "user_interest.drop(['action','product'],axis=1,inplace=True)\n"
   ]
  },
  {
   "cell_type": "code",
   "execution_count": 6,
   "metadata": {},
   "outputs": [],
   "source": [
    "product_view = log[log['action']=='view'].groupby(['product','action']).count().rename(columns={'DateTime':'p_view'}).reset_index()\n",
    "product_view.drop(['user_id','action'],axis=1,inplace=True)\n",
    "product_interest = log[log['action']=='interest'].groupby(['product','action']).count().rename(columns={'DateTime':'p_interest'}).reset_index()\n",
    "product_interest.drop(['user_id','action'],axis=1,inplace=True)"
   ]
  },
  {
   "cell_type": "code",
   "execution_count": 7,
   "metadata": {},
   "outputs": [
    {
     "data": {
      "text/html": [
       "<div>\n",
       "<style scoped>\n",
       "    .dataframe tbody tr th:only-of-type {\n",
       "        vertical-align: middle;\n",
       "    }\n",
       "\n",
       "    .dataframe tbody tr th {\n",
       "        vertical-align: top;\n",
       "    }\n",
       "\n",
       "    .dataframe thead th {\n",
       "        text-align: right;\n",
       "    }\n",
       "</style>\n",
       "<table border=\"1\" class=\"dataframe\">\n",
       "  <thead>\n",
       "    <tr style=\"text-align: right;\">\n",
       "      <th></th>\n",
       "      <th>user_id</th>\n",
       "      <th>days_active</th>\n",
       "      <th>unique_days_active</th>\n",
       "    </tr>\n",
       "  </thead>\n",
       "  <tbody>\n",
       "    <tr>\n",
       "      <th>0</th>\n",
       "      <td>4</td>\n",
       "      <td>1</td>\n",
       "      <td>1</td>\n",
       "    </tr>\n",
       "    <tr>\n",
       "      <th>1</th>\n",
       "      <td>19</td>\n",
       "      <td>14</td>\n",
       "      <td>14</td>\n",
       "    </tr>\n",
       "    <tr>\n",
       "      <th>2</th>\n",
       "      <td>25</td>\n",
       "      <td>11</td>\n",
       "      <td>5</td>\n",
       "    </tr>\n",
       "    <tr>\n",
       "      <th>3</th>\n",
       "      <td>26</td>\n",
       "      <td>14</td>\n",
       "      <td>8</td>\n",
       "    </tr>\n",
       "    <tr>\n",
       "      <th>4</th>\n",
       "      <td>30</td>\n",
       "      <td>14</td>\n",
       "      <td>11</td>\n",
       "    </tr>\n",
       "  </tbody>\n",
       "</table>\n",
       "</div>"
      ],
      "text/plain": [
       "   user_id  days_active  unique_days_active\n",
       "0        4            1                   1\n",
       "1       19           14                  14\n",
       "2       25           11                   5\n",
       "3       26           14                   8\n",
       "4       30           14                  11"
      ]
     },
     "execution_count": 7,
     "metadata": {},
     "output_type": "execute_result"
    }
   ],
   "source": [
    "log['DateTime'] = pd.to_datetime(log['DateTime'])\n",
    "days_active = log.reset_index().groupby(['user_id'])['DateTime'].agg(lambda x: (x.max() - x.min()).days+1 if (x.max() - x.min()).days !=0 else 1)\n",
    "unique_days_active = log.reset_index().groupby(['user_id'])['DateTime'].agg(lambda x: len(np.unique(x.dt.dayofyear)))\n",
    "user_time_features = days_active.reset_index().merge(unique_days_active.reset_index(),on='user_id',how = 'left')\n",
    "user_time_features.columns = ['user_id','days_active','unique_days_active']\n",
    "user_time_features.head()"
   ]
  },
  {
   "cell_type": "code",
   "execution_count": 14,
   "metadata": {},
   "outputs": [],
   "source": [
    "combine = pd.merge(combine, user_view,  how='left', on=['user_id'])\n",
    "\n",
    "combine = combine.merge(user_interest,on=['user_id'],how='left')\n",
    "combine = combine.merge(product_view, on=['product'],how='left')\n",
    "combine = combine.merge(product_interest, on=['product'],how='left')\n",
    "combine = combine.merge(user_product_view, on=['user_id','product'],how='left')\n",
    "combine = combine.merge(user_product_interest,on=['user_id','product'],how='left')\n",
    "combine = combine.merge(user_time_features, on=['user_id'],how='left')"
   ]
  },
  {
   "cell_type": "code",
   "execution_count": 15,
   "metadata": {},
   "outputs": [],
   "source": [
    "combine['new_user_ind'] = combine.days_active.isna().astype(int)\n",
    "\n",
    "missing_cols_float = ['up_view','up_interest','u_interest','u_view','days_active','unique_days_active']\n",
    "for col in missing_cols_float:\n",
    "    combine[col].fillna(0,inplace=True)"
   ]
  },
  {
   "cell_type": "markdown",
   "metadata": {},
   "source": [
    "** cummulative sum of clicks across different categorical variables combination:** \n",
    "\n",
    "set test['is_click']=0\n",
    "\n",
    "['user_id'],['user_id','weekday'],['user_id','campaign_id'],['user_id','campaign_id','product'],['user_id','campaign_id','product','webpage_id'],['user_id','product'],['user_id','webpage_id'],['campaign_id','day'],['campaign_id','day','hour'],['hour','day'],['hour','day','minute']"
   ]
  },
  {
   "cell_type": "code",
   "execution_count": 10,
   "metadata": {},
   "outputs": [],
   "source": [
    "def create_features(df,grouped_variable_list):\n",
    "    df.DateTime = pd.to_datetime(df.DateTime)\n",
    "    df['weekday'] = df.DateTime.dt.weekday\n",
    "    df['hour'] = df.DateTime.dt.hour\n",
    "    if len(grouped_variable_list) > 0:\n",
    "        for group in grouped_variable_list:\n",
    "            for i in range(len(group)):\n",
    "                if i == 0:\n",
    "                    name = group[i]\n",
    "                else:\n",
    "                    name = name + '_' + group[i]\n",
    "            df['cumcount_'+name] = df.groupby(group)['is_click'].cumcount()\n",
    "    df['cum_clicks_user_id'] = df.groupby('user_id')['is_click'].cumsum() - df.is_click\n",
    "    return df"
   ]
  },
  {
   "cell_type": "code",
   "execution_count": 16,
   "metadata": {},
   "outputs": [],
   "source": [
    "combine.loc[:len(train),'is_click'] = click\n",
    "combine.loc[len(train):,'is_click'] = 0\n",
    "\n",
    "combine = create_features(combine,[['user_id'],['user_id','weekday'],['user_id','campaign_id'],\n",
    "                                   ['user_id','campaign_id','product'],['user_id','campaign_id','product','webpage_id'],\n",
    "                                   ['user_id','product'],['user_id','webpage_id'],['campaign_id','weekday'],\n",
    "                                   ['campaign_id','weekday','hour'],['hour','weekday']])"
   ]
  },
  {
   "cell_type": "code",
   "execution_count": 21,
   "metadata": {},
   "outputs": [
    {
     "data": {
      "text/plain": [
       "Index(['session_id', 'DateTime', 'user_id', 'product', 'campaign_id',\n",
       "       'webpage_id', 'product_category_1', 'product_category_2',\n",
       "       'user_group_id', 'gender', 'age_level', 'user_depth',\n",
       "       'city_development_index', 'var_1', 'u_view', 'u_interest', 'p_view',\n",
       "       'p_interest', 'up_view', 'up_interest', 'days_active',\n",
       "       'unique_days_active', 'new_user_ind', 'is_click', 'weekday', 'hour',\n",
       "       'cumcount_user_id', 'cumcount_user_id_weekday',\n",
       "       'cumcount_user_id_campaign_id', 'cumcount_user_id_campaign_id_product',\n",
       "       'cumcount_user_id_campaign_id_product_webpage_id',\n",
       "       'cumcount_user_id_product', 'cumcount_user_id_webpage_id',\n",
       "       'cumcount_campaign_id_weekday', 'cumcount_campaign_id_weekday_hour',\n",
       "       'cumcount_hour_weekday', 'cum_clicks_user_id'],\n",
       "      dtype='object')"
      ]
     },
     "execution_count": 21,
     "metadata": {},
     "output_type": "execute_result"
    }
   ],
   "source": [
    "combine.columns"
   ]
  },
  {
   "cell_type": "markdown",
   "metadata": {},
   "source": [
    "### Data preprocessing\n",
    "\n",
    "* convert categorical variables.\n",
    "\n",
    "* handle missing value\n",
    "\n",
    "* drop product_category_2 because of large number of missing value"
   ]
  },
  {
   "cell_type": "code",
   "execution_count": 22,
   "metadata": {},
   "outputs": [],
   "source": [
    "combine.drop(['product_category_2','session_id'], axis=1,inplace=True)\n",
    "combine['user_group_id'].fillna(13.0,inplace=True)\n",
    "combine['age_level'].fillna(7.0,inplace=True)\n",
    "combine['user_depth'].fillna(4.0,inplace=True)\n",
    "combine['city_development_index'].fillna(5.0,inplace=True)\n",
    "combine['gender'].fillna('other',inplace=True)\n",
    "\n",
    "cat_col_names = ['user_id','product','campaign_id','webpage_id','product_category_1',\n",
    "                 'user_group_id','gender','age_level','user_depth','city_development_index','var_1',\n",
    "                 'new_user_ind','weekday','hour']\n",
    "\n",
    "for col in cat_col_names:\n",
    "    combine[col] = combine[col].astype('category')"
   ]
  },
  {
   "cell_type": "code",
   "execution_count": 23,
   "metadata": {},
   "outputs": [
    {
     "name": "stdout",
     "output_type": "stream",
     "text": [
      "<class 'pandas.core.frame.DataFrame'>\n",
      "Int64Index: 592149 entries, 0 to 592148\n",
      "Data columns (total 35 columns):\n",
      "DateTime                                           592149 non-null datetime64[ns]\n",
      "user_id                                            592149 non-null category\n",
      "product                                            592149 non-null category\n",
      "campaign_id                                        592149 non-null category\n",
      "webpage_id                                         592149 non-null category\n",
      "product_category_1                                 592149 non-null category\n",
      "user_group_id                                      592149 non-null category\n",
      "gender                                             592149 non-null category\n",
      "age_level                                          592149 non-null category\n",
      "user_depth                                         592149 non-null category\n",
      "city_development_index                             592149 non-null category\n",
      "var_1                                              592149 non-null category\n",
      "u_view                                             592149 non-null float64\n",
      "u_interest                                         592149 non-null float64\n",
      "p_view                                             592149 non-null int64\n",
      "p_interest                                         592149 non-null int64\n",
      "up_view                                            592149 non-null float64\n",
      "up_interest                                        592149 non-null float64\n",
      "days_active                                        592149 non-null float64\n",
      "unique_days_active                                 592149 non-null float64\n",
      "new_user_ind                                       592149 non-null category\n",
      "is_click                                           592149 non-null float64\n",
      "weekday                                            592149 non-null category\n",
      "hour                                               592149 non-null category\n",
      "cumcount_user_id                                   592149 non-null int64\n",
      "cumcount_user_id_weekday                           592149 non-null int64\n",
      "cumcount_user_id_campaign_id                       592149 non-null int64\n",
      "cumcount_user_id_campaign_id_product               592149 non-null int64\n",
      "cumcount_user_id_campaign_id_product_webpage_id    592149 non-null int64\n",
      "cumcount_user_id_product                           592149 non-null int64\n",
      "cumcount_user_id_webpage_id                        592149 non-null int64\n",
      "cumcount_campaign_id_weekday                       592149 non-null int64\n",
      "cumcount_campaign_id_weekday_hour                  592149 non-null int64\n",
      "cumcount_hour_weekday                              592149 non-null int64\n",
      "cum_clicks_user_id                                 592149 non-null float64\n",
      "dtypes: category(14), datetime64[ns](1), float64(8), int64(12)\n",
      "memory usage: 135.4 MB\n"
     ]
    }
   ],
   "source": [
    "combine.info()"
   ]
  },
  {
   "cell_type": "code",
   "execution_count": 24,
   "metadata": {},
   "outputs": [],
   "source": [
    "test = combine.iloc[len(train):]\n",
    "train = combine.iloc[:len(train)]"
   ]
  },
  {
   "cell_type": "markdown",
   "metadata": {},
   "source": [
    "Split traing set into train and validation set"
   ]
  },
  {
   "cell_type": "code",
   "execution_count": 38,
   "metadata": {},
   "outputs": [],
   "source": [
    "X_train,X_val,y_train,y_val = train_test_split(train.drop(['DateTime','is_click'],axis=1),click,\n",
    "                                                 test_size=0.25,random_state = 1994)"
   ]
  },
  {
   "cell_type": "markdown",
   "metadata": {},
   "source": [
    "### Modeling: CatBoost\n",
    "CatBoost has the flexibility of giving indices of categorical columns so that it can be encoded as one-hot encoding using one_hot_max_size (Use one-hot encoding for all features with number of different values less than or equal to the given parameter value).\n",
    "\n",
    "before feature engineering on the click data, the auc of catboost model is 0.63XX.\n",
    "\n",
    "Let's see the improvement after feature engineering\n"
   ]
  },
  {
   "cell_type": "code",
   "execution_count": 32,
   "metadata": {},
   "outputs": [],
   "source": [
    "categorical_features_indices = np.where(X_train.dtypes =='category')[0]"
   ]
  },
  {
   "cell_type": "code",
   "execution_count": 36,
   "metadata": {},
   "outputs": [],
   "source": [
    "cat_model = CatBoostClassifier(n_estimators=1000, # use large n_estimators deliberately to make use of the early stopping\n",
    "#                          reg_lambda=1.0,\n",
    "#                          l2_leaf_reg=4.0,\n",
    "                         eval_metric='AUC',\n",
    "                         random_seed=1994,\n",
    "                         learning_rate = 0.05,\n",
    "                         depth = 8,\n",
    "                               \n",
    "#                          boosting_type = 'Ordered',\n",
    "#                          subsample = 0.8\n",
    "                         #rsm = 0.7,\n",
    "                         #silent=True,\n",
    "                         #max_ctr_complexity = 5,  # no of categorical cols combined\n",
    "\n",
    "#                          od_type = 'IncToDec',  #overfitting params\n",
    "#                          od_wait = 20)\n",
    "                         #bagging_temperature = 1.0)\n",
    "                              )\n",
    "# lr=0.05, no od type of vars -- highest\n"
   ]
  },
  {
   "cell_type": "code",
   "execution_count": 35,
   "metadata": {},
   "outputs": [
    {
     "name": "stderr",
     "output_type": "stream",
     "text": [
      "Warning: Overfitting detector is active, thus evaluation metric is calculated on every iteration. 'metric_period' is ignored for evaluation metric.\n"
     ]
    },
    {
     "name": "stdout",
     "output_type": "stream",
     "text": [
      "0:\ttest: 0.6146178\tbest: 0.6146178 (0)\ttotal: 1.93s\tremaining: 32m 7s\n",
      "100:\ttest: 0.7762897\tbest: 0.7763092 (98)\ttotal: 3m 50s\tremaining: 34m 9s\n",
      "200:\ttest: 0.7790746\tbest: 0.7812953 (125)\ttotal: 8m 18s\tremaining: 33m\n",
      "300:\ttest: 0.7877423\tbest: 0.7877680 (299)\ttotal: 12m 26s\tremaining: 28m 54s\n",
      "400:\ttest: 0.7897826\tbest: 0.7897870 (398)\ttotal: 16m 42s\tremaining: 24m 57s\n",
      "500:\ttest: 0.7905833\tbest: 0.7905981 (498)\ttotal: 20m 45s\tremaining: 20m 40s\n",
      "600:\ttest: 0.7953792\tbest: 0.7957575 (578)\ttotal: 24m 49s\tremaining: 16m 28s\n",
      "700:\ttest: 0.8013848\tbest: 0.8013939 (699)\ttotal: 27m 59s\tremaining: 11m 56s\n",
      "800:\ttest: 0.8076197\tbest: 0.8076404 (798)\ttotal: 30m 51s\tremaining: 7m 40s\n",
      "900:\ttest: 0.8123267\tbest: 0.8123601 (883)\ttotal: 33m 38s\tremaining: 3m 41s\n",
      "999:\ttest: 0.8152397\tbest: 0.8152625 (997)\ttotal: 36m 53s\tremaining: 0us\n",
      "\n",
      "bestTest = 0.8152624928\n",
      "bestIteration = 997\n",
      "\n",
      "Shrink model to first 998 iterations.\n"
     ]
    },
    {
     "data": {
      "text/plain": [
       "<catboost.core.CatBoostClassifier at 0x1ae81cd29b0>"
      ]
     },
     "execution_count": 35,
     "metadata": {},
     "output_type": "execute_result"
    }
   ],
   "source": [
    "cat_model.fit(X_train.values,y_train.values,cat_features=categorical_features_indices,eval_set=(X_val, y_val),\n",
    "        plot=False,early_stopping_rounds=100,use_best_model=True,metric_period=100) # early stopping set to 100 to prevent overfitting"
   ]
  },
  {
   "cell_type": "markdown",
   "metadata": {},
   "source": [
    "### LightGBM model \n",
    "LightGBM handle categorical features automatically by assuming that all features of type category are treated with categoical treatment."
   ]
  },
  {
   "cell_type": "code",
   "execution_count": 39,
   "metadata": {},
   "outputs": [],
   "source": [
    "dtrain = lgb.Dataset(X_train, y_train)\n",
    "dval = lgb.Dataset(X_val, y_val)\n",
    "params = {\n",
    "    \n",
    "    'num_leaves' : 256,\n",
    "    'learning_rate':0.003,\n",
    "    'metric':'auc',\n",
    "    'objective':'binary',\n",
    "    'early_stopping_round': 40,\n",
    "    'max_depth':10,\n",
    "    'bagging_fraction':0.5,\n",
    "    'feature_fraction':0.6,\n",
    "    'bagging_seed':2017,\n",
    "    'feature_fraction_seed':2017,\n",
    "    'verbose' : 1\n",
    "    \n",
    "    \n",
    "}"
   ]
  },
  {
   "cell_type": "code",
   "execution_count": 40,
   "metadata": {},
   "outputs": [
    {
     "name": "stdout",
     "output_type": "stream",
     "text": [
      "Training until validation scores don't improve for 40 rounds.\n",
      "[20]\tvalid_0's auc: 0.633238\n",
      "[40]\tvalid_0's auc: 0.634146\n",
      "[60]\tvalid_0's auc: 0.63355\n",
      "[80]\tvalid_0's auc: 0.63418\n",
      "[100]\tvalid_0's auc: 0.634111\n",
      "[120]\tvalid_0's auc: 0.634384\n",
      "[140]\tvalid_0's auc: 0.634502\n",
      "[160]\tvalid_0's auc: 0.634778\n",
      "[180]\tvalid_0's auc: 0.634893\n",
      "[200]\tvalid_0's auc: 0.635089\n",
      "[220]\tvalid_0's auc: 0.635291\n",
      "[240]\tvalid_0's auc: 0.63565\n",
      "[260]\tvalid_0's auc: 0.635849\n",
      "[280]\tvalid_0's auc: 0.636044\n",
      "[300]\tvalid_0's auc: 0.636271\n",
      "[320]\tvalid_0's auc: 0.636431\n",
      "[340]\tvalid_0's auc: 0.636571\n",
      "[360]\tvalid_0's auc: 0.636752\n",
      "[380]\tvalid_0's auc: 0.636992\n",
      "[400]\tvalid_0's auc: 0.637171\n",
      "[420]\tvalid_0's auc: 0.637368\n",
      "[440]\tvalid_0's auc: 0.637537\n",
      "[460]\tvalid_0's auc: 0.637674\n",
      "[480]\tvalid_0's auc: 0.637752\n",
      "[500]\tvalid_0's auc: 0.637845\n",
      "[520]\tvalid_0's auc: 0.637991\n",
      "[540]\tvalid_0's auc: 0.638116\n",
      "[560]\tvalid_0's auc: 0.638201\n",
      "[580]\tvalid_0's auc: 0.638299\n",
      "[600]\tvalid_0's auc: 0.638421\n",
      "[620]\tvalid_0's auc: 0.638511\n",
      "[640]\tvalid_0's auc: 0.638621\n",
      "[660]\tvalid_0's auc: 0.638615\n",
      "[680]\tvalid_0's auc: 0.638701\n",
      "[700]\tvalid_0's auc: 0.638769\n",
      "[720]\tvalid_0's auc: 0.638875\n",
      "[740]\tvalid_0's auc: 0.638964\n",
      "[760]\tvalid_0's auc: 0.639013\n",
      "[780]\tvalid_0's auc: 0.639031\n",
      "[800]\tvalid_0's auc: 0.639063\n",
      "Did not meet early stopping. Best iteration is:\n",
      "[798]\tvalid_0's auc: 0.639065\n"
     ]
    }
   ],
   "source": [
    "clf = lgb.train(params, dtrain,num_boost_round=800,valid_sets=dval,verbose_eval=20)"
   ]
  },
  {
   "cell_type": "code",
   "execution_count": 33,
   "metadata": {},
   "outputs": [],
   "source": [
    "preds =  clf.predict(test[cols_to_use])"
   ]
  },
  {
   "cell_type": "code",
   "execution_count": 34,
   "metadata": {},
   "outputs": [],
   "source": [
    "sub = pd.DataFrame({'session_id':test['session_id'], 'is_click':preds})\n",
    "sub.to_csv('lgb.csv', index=False)"
   ]
  }
 ],
 "metadata": {
  "kernelspec": {
   "display_name": "Python 3",
   "language": "python",
   "name": "python3"
  },
  "language_info": {
   "codemirror_mode": {
    "name": "ipython",
    "version": 3
   },
   "file_extension": ".py",
   "mimetype": "text/x-python",
   "name": "python",
   "nbconvert_exporter": "python",
   "pygments_lexer": "ipython3",
   "version": "3.6.3"
  }
 },
 "nbformat": 4,
 "nbformat_minor": 2
}
